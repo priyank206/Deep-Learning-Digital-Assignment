{
  "cells": [
    {
      "cell_type": "markdown",
      "metadata": {
        "id": "view-in-github",
        "colab_type": "text"
      },
      "source": [
        "<a href=\"https://colab.research.google.com/github/priyank206/Deep-Learning-Digital-Assignment/blob/main/Deep_Learning_DA.ipynb\" target=\"_parent\"><img src=\"https://colab.research.google.com/assets/colab-badge.svg\" alt=\"Open In Colab\"/></a>"
      ]
    },
    {
      "cell_type": "code",
      "execution_count": 3,
      "metadata": {
        "colab": {
          "base_uri": "https://localhost:8080/"
        },
        "id": "xT4w0K5n28cG",
        "outputId": "83bdff6c-566b-42d7-fbbf-a9805bd47508"
      },
      "outputs": [
        {
          "output_type": "stream",
          "name": "stdout",
          "text": [
            "Mounted at /content/drive\n"
          ]
        }
      ],
      "source": [
        "from google.colab import drive\n",
        "drive.mount('/content/drive')\n"
      ]
    },
    {
      "cell_type": "code",
      "execution_count": 4,
      "metadata": {
        "id": "9GV4k8Zc4Z2L"
      },
      "outputs": [],
      "source": [
        "import numpy as np\n",
        "import tensorflow as tf\n",
        "from tensorflow.keras.preprocessing.image import ImageDataGenerator\n",
        "from tensorflow.keras.applications import ResNet50\n",
        "from tensorflow.keras.layers import Dense, GlobalAveragePooling2D\n",
        "from tensorflow.keras.models import Model\n",
        "from tensorflow.keras.optimizers import Adam\n",
        "from sklearn.metrics import classification_report, confusion_matrix\n",
        "import matplotlib.pyplot as plt\n",
        "import seaborn as sns"
      ]
    },
    {
      "cell_type": "code",
      "execution_count": 5,
      "metadata": {
        "colab": {
          "base_uri": "https://localhost:8080/"
        },
        "id": "KdkDCjsT4jgI",
        "outputId": "9464bdd9-fff7-47b7-dfa5-4813dcab6ce8"
      },
      "outputs": [
        {
          "output_type": "stream",
          "name": "stdout",
          "text": [
            "Found 394 images belonging to 4 classes.\n"
          ]
        }
      ],
      "source": [
        "# Define paths for train and test directories\n",
        "train_dir = '/content/drive/My Drive/Datasets/Brain Tumor Classification (MRI)/Training'\n",
        "test_dir = '/content/drive/My Drive/Datasets/Brain Tumor Classification (MRI)/Testing'\n",
        "\n",
        "# Data augmentation for training\n",
        "train_datagen = ImageDataGenerator(\n",
        "    rescale=1.0/255,\n",
        "    rotation_range=20,\n",
        "    zoom_range=0.2,\n",
        "    horizontal_flip=True\n",
        ")\n",
        "\n",
        "# Only rescale for testing\n",
        "test_datagen = ImageDataGenerator(rescale=1.0/255)\n",
        "\n",
        "# Generate batches of images from the directory\n",
        "train_generator = train_datagen.flow_from_directory(\n",
        "    train_dir,\n",
        "    target_size=(224, 224),\n",
        "    batch_size=32,\n",
        "    class_mode='categorical'\n",
        ")\n",
        "\n",
        "test_generator = test_datagen.flow_from_directory(\n",
        "    test_dir,\n",
        "    target_size=(224, 224),\n",
        "    batch_size=32,\n",
        "    class_mode='categorical',\n",
        "    shuffle=False\n",
        ")\n"
      ]
    },
    {
      "cell_type": "code",
      "execution_count": 6,
      "metadata": {
        "colab": {
          "base_uri": "https://localhost:8080/"
        },
        "id": "9MSsKUWd5x6b",
        "outputId": "9c4a7470-adba-4f81-af04-f5b8dd659ee8"
      },
      "outputs": [
        {
          "output_type": "stream",
          "name": "stdout",
          "text": [
            "\u001b[1m94765736/94765736\u001b[0m \u001b[32m━━━━━━━━━━━━━━━━━━━━\u001b[0m\u001b[37m\u001b[0m \u001b[1m0s\u001b[0m 0us/step\n"
          ]
        }
      ],
      "source": [
        "# Load ResNet50 model without the top layer\n",
        "base_model = ResNet50(weights='imagenet', include_top=False, input_shape=(224, 224, 3))\n",
        "\n",
        "# Add custom layers on top of the base model\n",
        "x = base_model.output\n",
        "x = GlobalAveragePooling2D()(x)\n",
        "x = Dense(1024, activation='relu')(x)\n",
        "x = Dense(512, activation='relu')(x)\n",
        "predictions = Dense(train_generator.num_classes, activation='softmax')(x)\n",
        "\n",
        "# Complete model\n",
        "transfer_learning_model = Model(inputs=base_model.input, outputs=predictions)\n",
        "\n",
        "# Freeze base model layers\n",
        "for layer in base_model.layers:\n",
        "    layer.trainable = False\n",
        "\n",
        "# Compile the model\n",
        "transfer_learning_model.compile(optimizer=Adam(learning_rate=0.001),\n",
        "              loss='categorical_crossentropy',\n",
        "              metrics=['accuracy'])\n"
      ]
    },
    {
      "cell_type": "code",
      "execution_count": 7,
      "metadata": {
        "colab": {
          "base_uri": "https://localhost:8080/"
        },
        "id": "AtRbP7Ap7nD_",
        "outputId": "2ca0dde3-6c2a-46bd-c858-a013612cbd4a"
      },
      "outputs": [
        {
          "metadata": {
            "tags": null
          },
          "name": "stdout",
          "output_type": "stream",
          "text": [
            "Epoch 1/10\n"
          ]
        },
        {
          "metadata": {
            "tags": null
          },
          "name": "stderr",
          "output_type": "stream",
          "text": [
            "/usr/local/lib/python3.10/dist-packages/keras/src/trainers/data_adapters/py_dataset_adapter.py:121: UserWarning: Your `PyDataset` class should call `super().__init__(**kwargs)` in its constructor. `**kwargs` can include `workers`, `use_multiprocessing`, `max_queue_size`. Do not pass these arguments to `fit()`, as they will be ignored.\n",
            "  self._warn_if_super_not_called()\n"
          ]
        },
        {
          "output_type": "stream",
          "name": "stdout",
          "text": [
            "\u001b[1m74/74\u001b[0m \u001b[32m━━━━━━━━━━━━━━━━━━━━\u001b[0m\u001b[37m\u001b[0m \u001b[1m964s\u001b[0m 12s/step - accuracy: 0.3564 - loss: 1.6104 - val_accuracy: 0.2766 - val_loss: 1.6009\n",
            "Epoch 2/10\n",
            "\u001b[1m74/74\u001b[0m \u001b[32m━━━━━━━━━━━━━━━━━━━━\u001b[0m\u001b[37m\u001b[0m \u001b[1m512s\u001b[0m 7s/step - accuracy: 0.4873 - loss: 1.1523 - val_accuracy: 0.3147 - val_loss: 2.1465\n",
            "Epoch 3/10\n",
            "\u001b[1m74/74\u001b[0m \u001b[32m━━━━━━━━━━━━━━━━━━━━\u001b[0m\u001b[37m\u001b[0m \u001b[1m540s\u001b[0m 7s/step - accuracy: 0.5096 - loss: 1.0874 - val_accuracy: 0.2563 - val_loss: 2.2899\n",
            "Epoch 4/10\n",
            "\u001b[1m74/74\u001b[0m \u001b[32m━━━━━━━━━━━━━━━━━━━━\u001b[0m\u001b[37m\u001b[0m \u001b[1m487s\u001b[0m 7s/step - accuracy: 0.4943 - loss: 1.1281 - val_accuracy: 0.2792 - val_loss: 1.9613\n",
            "Epoch 5/10\n",
            "\u001b[1m74/74\u001b[0m \u001b[32m━━━━━━━━━━━━━━━━━━━━\u001b[0m\u001b[37m\u001b[0m \u001b[1m506s\u001b[0m 7s/step - accuracy: 0.5587 - loss: 1.0317 - val_accuracy: 0.2817 - val_loss: 2.3393\n",
            "Epoch 6/10\n",
            "\u001b[1m74/74\u001b[0m \u001b[32m━━━━━━━━━━━━━━━━━━━━\u001b[0m\u001b[37m\u001b[0m \u001b[1m489s\u001b[0m 7s/step - accuracy: 0.5775 - loss: 0.9761 - val_accuracy: 0.2919 - val_loss: 2.1873\n",
            "Epoch 7/10\n",
            "\u001b[1m74/74\u001b[0m \u001b[32m━━━━━━━━━━━━━━━━━━━━\u001b[0m\u001b[37m\u001b[0m \u001b[1m489s\u001b[0m 7s/step - accuracy: 0.5877 - loss: 0.9695 - val_accuracy: 0.3223 - val_loss: 2.1078\n",
            "Epoch 8/10\n",
            "\u001b[1m74/74\u001b[0m \u001b[32m━━━━━━━━━━━━━━━━━━━━\u001b[0m\u001b[37m\u001b[0m \u001b[1m490s\u001b[0m 7s/step - accuracy: 0.5835 - loss: 0.9505 - val_accuracy: 0.3426 - val_loss: 2.2694\n",
            "Epoch 9/10\n",
            "\u001b[1m74/74\u001b[0m \u001b[32m━━━━━━━━━━━━━━━━━━━━\u001b[0m\u001b[37m\u001b[0m \u001b[1m489s\u001b[0m 7s/step - accuracy: 0.5992 - loss: 0.9024 - val_accuracy: 0.3553 - val_loss: 2.3739\n",
            "Epoch 10/10\n",
            "\u001b[1m74/74\u001b[0m \u001b[32m━━━━━━━━━━━━━━━━━━━━\u001b[0m\u001b[37m\u001b[0m \u001b[1m488s\u001b[0m 7s/step - accuracy: 0.6039 - loss: 0.8943 - val_accuracy: 0.3096 - val_loss: 2.6001\n"
          ]
        }
      ],
      "source": [
        "# Train the model and validate on the test set\n",
        "transfer_learning_history = transfer_learning_model.fit(\n",
        "    train_generator,\n",
        "    epochs=10,\n",
        "    validation_data=test_generator\n",
        ")\n"
      ]
    },
    {
      "cell_type": "code",
      "execution_count": 18,
      "metadata": {
        "id": "fiYPzZX_XF7Y"
      },
      "outputs": [],
      "source": [
        "# Define paths to save both models and histories in Google Drive\n",
        "cnn_model_save_path = '/content/drive/My Drive/Datasets/Brain Tumor Classification (MRI)/cnn_brain_tumor_model.keras'\n",
        "cnn_history_save_path = '/content/drive/My Drive/Datasets/Brain Tumor Classification (MRI)/cnn_training_history.json'\n",
        "transfer_model_save_path = '/content/drive/My Drive/Datasets/Brain Tumor Classification (MRI)/transfer_brain_tumor_model.keras'\n",
        "transfer_history_save_path = '/content/drive/My Drive/Datasets/Brain Tumor Classification (MRI)/transfer_training_history.json'"
      ]
    },
    {
      "cell_type": "code",
      "execution_count": 19,
      "metadata": {
        "id": "bslnYT52YbNS"
      },
      "outputs": [],
      "source": [
        "import json\n",
        "transfer_learning_model.save(transfer_model_save_path)\n",
        "with open(transfer_history_save_path, 'w') as f:\n",
        "    json.dump(transfer_learning_history.history, f)"
      ]
    },
    {
      "cell_type": "code",
      "source": [
        "from tensorflow.keras.models import load_model\n",
        "import json\n",
        "\n",
        "transfer_learning_model = load_model(transfer_model_save_path)\n",
        "\n",
        "\n",
        "# Load history from a JSON file\n",
        "with open(transfer_history_save_path, 'r') as file:\n",
        "    transfer_learning_history = json.load(file)\n"
      ],
      "metadata": {
        "id": "qF_SF6Qik9As"
      },
      "execution_count": null,
      "outputs": []
    },
    {
      "cell_type": "code",
      "execution_count": 22,
      "metadata": {
        "id": "ffU9H0AD7paK",
        "colab": {
          "base_uri": "https://localhost:8080/",
          "height": 961
        },
        "outputId": "cf06a666-0c74-427b-dbf9-e545a36b7251"
      },
      "outputs": [
        {
          "output_type": "stream",
          "name": "stdout",
          "text": [
            "\u001b[1m13/13\u001b[0m \u001b[32m━━━━━━━━━━━━━━━━━━━━\u001b[0m\u001b[37m\u001b[0m \u001b[1m105s\u001b[0m 8s/step\n",
            "Classification Report:\n",
            "\n",
            "                  precision    recall  f1-score   support\n",
            "\n",
            "    glioma_tumor       0.42      0.11      0.17       100\n",
            "meningioma_tumor       0.28      0.17      0.21       115\n",
            "        no_tumor       0.29      0.77      0.42       105\n",
            " pituitary_tumor       0.52      0.15      0.23        74\n",
            "\n",
            "        accuracy                           0.31       394\n",
            "       macro avg       0.38      0.30      0.26       394\n",
            "    weighted avg       0.36      0.31      0.26       394\n",
            "\n"
          ]
        },
        {
          "output_type": "display_data",
          "data": {
            "text/plain": [
              "<Figure size 800x800 with 2 Axes>"
            ],
            "image/png": "[encoded data removed]"
          },
          "metadata": {}
        }
      ],
      "source": [
        "# Make predictions on the test data\n",
        "test_generator.reset()\n",
        "predictions = transfer_learning_model.predict(test_generator, verbose=1)\n",
        "predicted_classes = np.argmax(predictions, axis=1)\n",
        "true_classes = test_generator.classes\n",
        "class_labels = list(test_generator.class_indices.keys())\n",
        "\n",
        "# Print classification report\n",
        "print(\"Classification Report:\\n\")\n",
        "print(classification_report(true_classes, predicted_classes, target_names=class_labels))\n",
        "\n",
        "# Confusion matrix\n",
        "conf_matrix = confusion_matrix(true_classes, predicted_classes)\n",
        "plt.figure(figsize=(8, 8))\n",
        "sns.heatmap(conf_matrix, annot=True, fmt=\"d\", cmap=\"Blues\", xticklabels=class_labels, yticklabels=class_labels)\n",
        "plt.title(\"Confusion Matrix\")\n",
        "plt.xlabel(\"Predicted Class\")\n",
        "plt.ylabel(\"True Class\")\n",
        "plt.show()\n"
      ]
    },
    {
      "cell_type": "code",
      "execution_count": 23,
      "metadata": {
        "id": "Y6cwqS8D3pHz",
        "colab": {
          "base_uri": "https://localhost:8080/"
        },
        "outputId": "e0379fdd-8362-4224-cf75-1d9dc6108068"
      },
      "outputs": [
        {
          "output_type": "stream",
          "name": "stdout",
          "text": [
            "Requirement already satisfied: scikit-learn in /usr/local/lib/python3.10/dist-packages (1.5.2)\n",
            "Requirement already satisfied: numpy>=1.19.5 in /usr/local/lib/python3.10/dist-packages (from scikit-learn) (1.26.4)\n",
            "Requirement already satisfied: scipy>=1.6.0 in /usr/local/lib/python3.10/dist-packages (from scikit-learn) (1.13.1)\n",
            "Requirement already satisfied: joblib>=1.2.0 in /usr/local/lib/python3.10/dist-packages (from scikit-learn) (1.4.2)\n",
            "Requirement already satisfied: threadpoolctl>=3.1.0 in /usr/local/lib/python3.10/dist-packages (from scikit-learn) (3.5.0)\n",
            "\u001b[1m13/13\u001b[0m \u001b[32m━━━━━━━━━━━━━━━━━━━━\u001b[0m\u001b[37m\u001b[0m \u001b[1m68s\u001b[0m 5s/step\n",
            "Precision: 0.3647\n",
            "Recall: 0.3096\n",
            "F1 Score: 0.2608\n",
            "\n",
            "Detailed Classification Report:\n",
            "\n",
            "                  precision    recall  f1-score   support\n",
            "\n",
            "    glioma_tumor       0.42      0.11      0.17       100\n",
            "meningioma_tumor       0.28      0.17      0.21       115\n",
            "        no_tumor       0.29      0.77      0.42       105\n",
            " pituitary_tumor       0.52      0.15      0.23        74\n",
            "\n",
            "        accuracy                           0.31       394\n",
            "       macro avg       0.38      0.30      0.26       394\n",
            "    weighted avg       0.36      0.31      0.26       394\n",
            "\n"
          ]
        }
      ],
      "source": [
        "!pip install scikit-learn # Install scikit-learn if you haven't already\n",
        "from sklearn.metrics import precision_score, recall_score, f1_score, classification_report, confusion_matrix\n",
        "import matplotlib.pyplot as plt\n",
        "import seaborn as sns\n",
        "import numpy as np\n",
        "\n",
        "# Make predictions on the test set\n",
        "test_generator.reset()\n",
        "predictions = transfer_learning_model.predict(test_generator, verbose=1)\n",
        "predicted_classes = np.argmax(predictions, axis=1)\n",
        "true_classes = test_generator.classes\n",
        "class_labels = list(test_generator.class_indices.keys())\n",
        "\n",
        "# Calculate precision, recall, and F1-score\n",
        "precision = precision_score(true_classes, predicted_classes, average='weighted')\n",
        "recall = recall_score(true_classes, predicted_classes, average='weighted')\n",
        "f1 = f1_score(true_classes, predicted_classes, average='weighted')\n",
        "\n",
        "print(f\"Precision: {precision:.4f}\")\n",
        "print(f\"Recall: {recall:.4f}\")\n",
        "print(f\"F1 Score: {f1:.4f}\")\n",
        "\n",
        "# Print detailed classification report\n",
        "print(\"\\nDetailed Classification Report:\\n\")\n",
        "print(classification_report(true_classes, predicted_classes, target_names=class_labels))"
      ]
    },
    {
      "cell_type": "code",
      "execution_count": 26,
      "metadata": {
        "id": "XoDI_4lV7JQB",
        "colab": {
          "base_uri": "https://localhost:8080/"
        },
        "outputId": "26f5450a-8129-46fc-96a0-5fe2aac433fd"
      },
      "outputs": [
        {
          "output_type": "stream",
          "name": "stderr",
          "text": [
            "/usr/local/lib/python3.10/dist-packages/keras/src/layers/convolutional/base_conv.py:107: UserWarning: Do not pass an `input_shape`/`input_dim` argument to a layer. When using Sequential models, prefer using an `Input(shape)` object as the first layer in the model instead.\n",
            "  super().__init__(activity_regularizer=activity_regularizer, **kwargs)\n"
          ]
        },
        {
          "output_type": "stream",
          "name": "stdout",
          "text": [
            "Epoch 1/20\n",
            "\u001b[1m74/74\u001b[0m \u001b[32m━━━━━━━━━━━━━━━━━━━━\u001b[0m\u001b[37m\u001b[0m \u001b[1m315s\u001b[0m 4s/step - accuracy: 0.3807 - loss: 1.3667 - val_accuracy: 0.3376 - val_loss: 1.9191\n",
            "Epoch 2/20\n",
            "\u001b[1m74/74\u001b[0m \u001b[32m━━━━━━━━━━━━━━━━━━━━\u001b[0m\u001b[37m\u001b[0m \u001b[1m297s\u001b[0m 4s/step - accuracy: 0.5300 - loss: 0.9961 - val_accuracy: 0.3629 - val_loss: 1.8962\n",
            "Epoch 3/20\n",
            "\u001b[1m74/74\u001b[0m \u001b[32m━━━━━━━━━━━━━━━━━━━━\u001b[0m\u001b[37m\u001b[0m \u001b[1m300s\u001b[0m 4s/step - accuracy: 0.6126 - loss: 0.8326 - val_accuracy: 0.3883 - val_loss: 2.1979\n",
            "Epoch 4/20\n",
            "\u001b[1m74/74\u001b[0m \u001b[32m━━━━━━━━━━━━━━━━━━━━\u001b[0m\u001b[37m\u001b[0m \u001b[1m320s\u001b[0m 4s/step - accuracy: 0.6156 - loss: 0.8365 - val_accuracy: 0.4112 - val_loss: 2.3934\n",
            "Epoch 5/20\n",
            "\u001b[1m74/74\u001b[0m \u001b[32m━━━━━━━━━━━━━━━━━━━━\u001b[0m\u001b[37m\u001b[0m \u001b[1m298s\u001b[0m 4s/step - accuracy: 0.6418 - loss: 0.7765 - val_accuracy: 0.3807 - val_loss: 2.5957\n",
            "Epoch 6/20\n",
            "\u001b[1m74/74\u001b[0m \u001b[32m━━━━━━━━━━━━━━━━━━━━\u001b[0m\u001b[37m\u001b[0m \u001b[1m323s\u001b[0m 4s/step - accuracy: 0.6630 - loss: 0.7018 - val_accuracy: 0.3959 - val_loss: 2.7984\n",
            "Epoch 7/20\n",
            "\u001b[1m74/74\u001b[0m \u001b[32m━━━━━━━━━━━━━━━━━━━━\u001b[0m\u001b[37m\u001b[0m \u001b[1m309s\u001b[0m 4s/step - accuracy: 0.7120 - loss: 0.6489 - val_accuracy: 0.3883 - val_loss: 2.7809\n",
            "Epoch 8/20\n",
            "\u001b[1m74/74\u001b[0m \u001b[32m━━━━━━━━━━━━━━━━━━━━\u001b[0m\u001b[37m\u001b[0m \u001b[1m311s\u001b[0m 4s/step - accuracy: 0.6953 - loss: 0.6520 - val_accuracy: 0.4518 - val_loss: 2.4330\n",
            "Epoch 9/20\n",
            "\u001b[1m74/74\u001b[0m \u001b[32m━━━━━━━━━━━━━━━━━━━━\u001b[0m\u001b[37m\u001b[0m \u001b[1m327s\u001b[0m 4s/step - accuracy: 0.7475 - loss: 0.5936 - val_accuracy: 0.4746 - val_loss: 2.8357\n",
            "Epoch 10/20\n",
            "\u001b[1m74/74\u001b[0m \u001b[32m━━━━━━━━━━━━━━━━━━━━\u001b[0m\u001b[37m\u001b[0m \u001b[1m298s\u001b[0m 4s/step - accuracy: 0.7104 - loss: 0.6508 - val_accuracy: 0.4949 - val_loss: 3.0655\n",
            "Epoch 11/20\n",
            "\u001b[1m74/74\u001b[0m \u001b[32m━━━━━━━━━━━━━━━━━━━━\u001b[0m\u001b[37m\u001b[0m \u001b[1m321s\u001b[0m 4s/step - accuracy: 0.7270 - loss: 0.6288 - val_accuracy: 0.5178 - val_loss: 2.9045\n",
            "Epoch 12/20\n",
            "\u001b[1m74/74\u001b[0m \u001b[32m━━━━━━━━━━━━━━━━━━━━\u001b[0m\u001b[37m\u001b[0m \u001b[1m322s\u001b[0m 4s/step - accuracy: 0.7706 - loss: 0.5190 - val_accuracy: 0.4746 - val_loss: 2.8133\n",
            "Epoch 13/20\n",
            "\u001b[1m74/74\u001b[0m \u001b[32m━━━━━━━━━━━━━━━━━━━━\u001b[0m\u001b[37m\u001b[0m \u001b[1m321s\u001b[0m 4s/step - accuracy: 0.7702 - loss: 0.5349 - val_accuracy: 0.5355 - val_loss: 2.7075\n",
            "Epoch 14/20\n",
            "\u001b[1m74/74\u001b[0m \u001b[32m━━━━━━━━━━━━━━━━━━━━\u001b[0m\u001b[37m\u001b[0m \u001b[1m297s\u001b[0m 4s/step - accuracy: 0.7806 - loss: 0.5481 - val_accuracy: 0.4112 - val_loss: 3.8137\n",
            "Epoch 15/20\n",
            "\u001b[1m74/74\u001b[0m \u001b[32m━━━━━━━━━━━━━━━━━━━━\u001b[0m\u001b[37m\u001b[0m \u001b[1m298s\u001b[0m 4s/step - accuracy: 0.7777 - loss: 0.5019 - val_accuracy: 0.5102 - val_loss: 2.6286\n",
            "Epoch 16/20\n",
            "\u001b[1m74/74\u001b[0m \u001b[32m━━━━━━━━━━━━━━━━━━━━\u001b[0m\u001b[37m\u001b[0m \u001b[1m330s\u001b[0m 4s/step - accuracy: 0.7738 - loss: 0.5098 - val_accuracy: 0.5508 - val_loss: 3.4565\n",
            "Epoch 17/20\n",
            "\u001b[1m74/74\u001b[0m \u001b[32m━━━━━━━━━━━━━━━━━━━━\u001b[0m\u001b[37m\u001b[0m \u001b[1m299s\u001b[0m 4s/step - accuracy: 0.7928 - loss: 0.5086 - val_accuracy: 0.5482 - val_loss: 3.3450\n",
            "Epoch 18/20\n",
            "\u001b[1m74/74\u001b[0m \u001b[32m━━━━━━━━━━━━━━━━━━━━\u001b[0m\u001b[37m\u001b[0m \u001b[1m321s\u001b[0m 4s/step - accuracy: 0.7984 - loss: 0.4653 - val_accuracy: 0.5152 - val_loss: 3.5374\n",
            "Epoch 19/20\n",
            "\u001b[1m74/74\u001b[0m \u001b[32m━━━━━━━━━━━━━━━━━━━━\u001b[0m\u001b[37m\u001b[0m \u001b[1m322s\u001b[0m 4s/step - accuracy: 0.8118 - loss: 0.4526 - val_accuracy: 0.5939 - val_loss: 3.6735\n",
            "Epoch 20/20\n",
            "\u001b[1m74/74\u001b[0m \u001b[32m━━━━━━━━━━━━━━━━━━━━\u001b[0m\u001b[37m\u001b[0m \u001b[1m325s\u001b[0m 4s/step - accuracy: 0.8107 - loss: 0.4605 - val_accuracy: 0.5711 - val_loss: 2.9835\n"
          ]
        }
      ],
      "source": [
        "from tensorflow import keras\n",
        "from tensorflow.keras.models import Sequential\n",
        "from tensorflow.keras.layers import Conv2D, MaxPooling2D, Flatten, Dense, Dropout\n",
        "\n",
        "# Define image dimensions (replace with your actual image dimensions)\n",
        "img_height = 224  # Updated height to match the input shape\n",
        "img_width = 224   # Updated width to match the input shape\n",
        "\n",
        "# Build the CNN model\n",
        "cnn_model = Sequential([\n",
        "    Conv2D(32, (3, 3), activation='relu', input_shape=(img_height, img_width, 3)),\n",
        "    MaxPooling2D(pool_size=(2, 2)),\n",
        "    Conv2D(64, (3, 3), activation='relu'),\n",
        "    MaxPooling2D(pool_size=(2, 2)),\n",
        "    Conv2D(128, (3, 3), activation='relu'),\n",
        "    MaxPooling2D(pool_size=(2, 2)),\n",
        "    Flatten(),\n",
        "    Dense(128, activation='relu'),\n",
        "    Dropout(0.5),\n",
        "    Dense(4, activation='softmax')  # Assuming 4 classes for tumor types\n",
        "])\n",
        "\n",
        "# Compile the model\n",
        "cnn_model.compile(optimizer='adam', loss='categorical_crossentropy', metrics=['accuracy'])\n",
        "\n",
        "# Train the model\n",
        "epochs = 20\n",
        "cnn_history = cnn_model.fit(train_generator, epochs=epochs, validation_data=test_generator)"
      ]
    },
    {
      "cell_type": "code",
      "execution_count": 30,
      "metadata": {
        "id": "78MxjnecVJYg"
      },
      "outputs": [],
      "source": [
        "cnn_model.save(cnn_model_save_path)\n",
        "with open(cnn_history_save_path, 'w') as f:\n",
        "    json.dump(cnn_history, f)"
      ]
    },
    {
      "cell_type": "code",
      "source": [
        "from tensorflow.keras.models import load_model\n",
        "import json\n",
        "\n",
        "cnn_model = load_model(cnn_model_save_path)\n",
        "\n",
        "\n",
        "# Load history from a JSON file\n",
        "with open(cnn_history_save_path, 'r') as file:\n",
        "    cnn_history = json.load(file)\n"
      ],
      "metadata": {
        "id": "czOZ8wd8lu_L"
      },
      "execution_count": 31,
      "outputs": []
    },
    {
      "cell_type": "code",
      "source": [
        "!pip install scikit-learn # Install scikit-learn if you haven't already\n",
        "from sklearn.metrics import precision_score, recall_score, f1_score, classification_report, confusion_matrix\n",
        "import matplotlib.pyplot as plt\n",
        "import seaborn as sns\n",
        "import numpy as np\n",
        "\n",
        "# Make predictions on the test set\n",
        "test_generator.reset()\n",
        "predictions = cnn_model.predict(test_generator, verbose=1)\n",
        "predicted_classes = np.argmax(predictions, axis=1)\n",
        "true_classes = test_generator.classes\n",
        "class_labels = list(test_generator.class_indices.keys())\n",
        "\n",
        "# Calculate precision, recall, and F1-score\n",
        "precision = precision_score(true_classes, predicted_classes, average='weighted')\n",
        "recall = recall_score(true_classes, predicted_classes, average='weighted')\n",
        "f1 = f1_score(true_classes, predicted_classes, average='weighted')\n",
        "\n",
        "print(f\"Precision: {precision:.4f}\")\n",
        "print(f\"Recall: {recall:.4f}\")\n",
        "print(f\"F1 Score: {f1:.4f}\")\n",
        "\n",
        "# Print detailed classification report\n",
        "print(\"\\nDetailed Classification Report:\\n\")\n",
        "print(classification_report(true_classes, predicted_classes, target_names=class_labels))"
      ],
      "metadata": {
        "colab": {
          "base_uri": "https://localhost:8080/"
        },
        "id": "EilOqJbEewG7",
        "outputId": "82984fb8-8391-43e1-8d61-7fcac596f125"
      },
      "execution_count": 32,
      "outputs": [
        {
          "output_type": "stream",
          "name": "stdout",
          "text": [
            "Requirement already satisfied: scikit-learn in /usr/local/lib/python3.10/dist-packages (1.5.2)\n",
            "Requirement already satisfied: numpy>=1.19.5 in /usr/local/lib/python3.10/dist-packages (from scikit-learn) (1.26.4)\n",
            "Requirement already satisfied: scipy>=1.6.0 in /usr/local/lib/python3.10/dist-packages (from scikit-learn) (1.13.1)\n",
            "Requirement already satisfied: joblib>=1.2.0 in /usr/local/lib/python3.10/dist-packages (from scikit-learn) (1.4.2)\n",
            "Requirement already satisfied: threadpoolctl>=3.1.0 in /usr/local/lib/python3.10/dist-packages (from scikit-learn) (3.5.0)\n",
            "\u001b[1m13/13\u001b[0m \u001b[32m━━━━━━━━━━━━━━━━━━━━\u001b[0m\u001b[37m\u001b[0m \u001b[1m14s\u001b[0m 1s/step\n",
            "Precision: 0.6862\n",
            "Recall: 0.5254\n",
            "F1 Score: 0.5017\n",
            "\n",
            "Detailed Classification Report:\n",
            "\n",
            "                  precision    recall  f1-score   support\n",
            "\n",
            "    glioma_tumor       0.73      0.19      0.30       100\n",
            "meningioma_tumor       0.78      0.44      0.57       115\n",
            "        no_tumor       0.39      1.00      0.56       105\n",
            " pituitary_tumor       0.89      0.43      0.58        74\n",
            "\n",
            "        accuracy                           0.53       394\n",
            "       macro avg       0.70      0.52      0.50       394\n",
            "    weighted avg       0.69      0.53      0.50       394\n",
            "\n"
          ]
        }
      ]
    }
  ],
  "metadata": {
    "colab": {
      "provenance": [],
      "authorship_tag": "ABX9TyPAsm2BgQNvpOHnCIrQKyk1",
      "include_colab_link": true
    },
    "kernelspec": {
      "display_name": "Python 3",
      "name": "python3"
    },
    "language_info": {
      "name": "python"
    }
  },
  "nbformat": 4,
  "nbformat_minor": 0
}